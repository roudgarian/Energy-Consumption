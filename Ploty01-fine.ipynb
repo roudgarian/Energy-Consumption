{
 "cells": [
  {
   "cell_type": "code",
   "execution_count": 26,
   "metadata": {},
   "outputs": [],
   "source": [
    "import plotly.plotly as py\n",
    "import plotly.graph_objs as go \n",
    "import plotly\n",
    "plotly.tools.set_credentials_file(username='roudgarian', api_key='487wi04XQXVDhzZVfABJ')\n",
    "from datetime import datetime\n",
    "import pandas_datareader.data as web\n",
    "import pandas as pd\n",
    "import itertools\n",
    "import matplotlib.pyplot as plt \n",
    "import seaborn as sns\n",
    "import numpy as np\n",
    "import statsmodels.api as sm\n",
    "from pylab import rcParams\n",
    "from pandas.plotting import autocorrelation_plot\n",
    "from matplotlib import pyplot\n",
    "from numpy import nan\n",
    "from numpy import isnan\n",
    "from pandas import read_csv\n",
    "from pandas import to_numeric\n",
    "from numpy import split\n",
    "from numpy import array\n",
    "from statsmodels.graphics.tsaplots import plot_acf\n",
    "from statsmodels.graphics.tsaplots import plot_pacf\n",
    "from sklearn.metrics import mean_squared_error\n",
    "from statsmodels.tsa.arima_model import ARIMA\n",
    "from math import sqrt"
   ]
  },
  {
   "cell_type": "code",
   "execution_count": 27,
   "metadata": {},
   "outputs": [],
   "source": [
    "data = read_csv('Power_consumption_Preprocessed.csv', header=0,\n",
    "                infer_datetime_format=True, parse_dates=['DateTime'], index_col=['DateTime'])"
   ]
  },
  {
   "cell_type": "code",
   "execution_count": 28,
   "metadata": {},
   "outputs": [],
   "source": [
    "df=data.resample('M').mean()"
   ]
  },
  {
   "cell_type": "code",
   "execution_count": 29,
   "metadata": {},
   "outputs": [],
   "source": [
    "trace_gap = go.Scatter(x=list(df.index),\n",
    "                       y=list(df.Global_active_power),\n",
    "                          name='GAP',\n",
    "                          line=dict(color='#B40431'))"
   ]
  },
  {
   "cell_type": "code",
   "execution_count": 30,
   "metadata": {},
   "outputs": [],
   "source": [
    "trace_sub1 = go.Scatter(x=list(df.index),\n",
    "                       y=list(df.Sub_metering_1),\n",
    "                       name='Kitchen',\n",
    "                       line=dict(color='#2d7f5e'))"
   ]
  },
  {
   "cell_type": "code",
   "execution_count": 31,
   "metadata": {},
   "outputs": [],
   "source": [
    "trace_sub2 = go.Scatter(x=list(df.index),\n",
    "                       y=list(df.Sub_metering_2),\n",
    "                       name='Laundry.R',\n",
    "                       line=dict(color='#0080FF'))"
   ]
  },
  {
   "cell_type": "code",
   "execution_count": 32,
   "metadata": {},
   "outputs": [],
   "source": [
    "trace_sub3 = go.Scatter(x=list(df.index),\n",
    "                       y=list(df.Sub_metering_3),\n",
    "                       name='Heating_AC',\n",
    "                       line=dict(color='#FFBF00'))"
   ]
  },
  {
   "cell_type": "code",
   "execution_count": 33,
   "metadata": {},
   "outputs": [],
   "source": [
    "trace_sub4 = go.Scatter(x=list(df.index),\n",
    "                       y=list(df.Unmetered),\n",
    "                       name='Unmetered',\n",
    "                       line=dict(color='#3A2F0B'))"
   ]
  },
  {
   "cell_type": "code",
   "execution_count": 34,
   "metadata": {},
   "outputs": [],
   "source": [
    "data = [trace_gap, trace_sub1, trace_sub2, trace_sub3, trace_sub4 ]"
   ]
  },
  {
   "cell_type": "code",
   "execution_count": 35,
   "metadata": {},
   "outputs": [],
   "source": [
    "gap_annotations=[dict(x=df.Global_active_power.idxmax(),\n",
    "                       y=df.Global_active_power.max(),\n",
    "                       xref='x', yref='y',\n",
    "                       text='Max:<br>'+str(df.Global_active_power.max()),\n",
    "                       ax=0, ay=-40)]"
   ]
  },
  {
   "cell_type": "code",
   "execution_count": 36,
   "metadata": {},
   "outputs": [],
   "source": [
    "sub1_annotations=[dict(x=df.Sub_metering_1.idxmax(),\n",
    "                       y=df.Sub_metering_1.max(),\n",
    "                       xref='x', yref='y',\n",
    "                       text='Max:<br>'+str(df.Sub_metering_1.max()),\n",
    "                       ax=0, ay=-40)]"
   ]
  },
  {
   "cell_type": "code",
   "execution_count": 37,
   "metadata": {},
   "outputs": [],
   "source": [
    "sub2_annotations=[dict(x=df.Sub_metering_2.idxmax(),\n",
    "                       y=df.Sub_metering_2.max(),\n",
    "                       xref='x', yref='y',\n",
    "                       text='Max:<br>'+str(df.Sub_metering_2.max()),\n",
    "                       ax=0, ay=-40)]"
   ]
  },
  {
   "cell_type": "code",
   "execution_count": 38,
   "metadata": {},
   "outputs": [],
   "source": [
    "sub3_annotations=[dict(x=df.Sub_metering_3.idxmax(),\n",
    "                       y=df.Sub_metering_3.max(),\n",
    "                       xref='x', yref='y',\n",
    "                       text='Max:<br>'+str(df.Sub_metering_3.max()),\n",
    "                       ax=0, ay=-40)]"
   ]
  },
  {
   "cell_type": "code",
   "execution_count": 39,
   "metadata": {},
   "outputs": [],
   "source": [
    "sub4_annotations=[dict(x=df.Unmetered.idxmax(),\n",
    "                       y=df.Unmetered.max(),\n",
    "                       xref='x', yref='y',\n",
    "                       text='Max:<br>'+str(df.Unmetered.max()),\n",
    "                       ax=0, ay=40)]"
   ]
  },
  {
   "cell_type": "code",
   "execution_count": 47,
   "metadata": {},
   "outputs": [],
   "source": [
    "updatemenus = list([\n",
    "    dict(active=-1,\n",
    "         buttons=list([   \n",
    "            dict(label = 'GAP',\n",
    "                 method = 'update',\n",
    "                 args = [{'visible': [True, False, False, False, False, False]},\n",
    "                         {'title': 'Global Active Power'}]),\n",
    "            dict(label = 'Kitchen',\n",
    "                 method = 'update',\n",
    "                 args = [{'visible': [False, True, False, False, False, False]},\n",
    "                         {'title': 'Kitchen',\n",
    "                          'annotations': sub1_annotations}]),\n",
    "            dict(label = 'Laundry.R',\n",
    "                 method = 'update',\n",
    "                 args = [{'visible': [False, False, True, False, False, False]},\n",
    "                         {'title': 'Laundry Room',\n",
    "                          'annotations': sub2_annotations}]),\n",
    "            dict(label = 'Heating_AC',\n",
    "                 method = 'update',\n",
    "                 args = [{'visible': [False, False, False, True, False, False]},\n",
    "                         {'title': 'Heating_AC',\n",
    "                          'annotations': sub3_annotations}]),\n",
    "            dict(label = 'Unmetered',\n",
    "                 method = 'update',\n",
    "                 args = [{'visible': [False, False, False, False, True, False]},\n",
    "                         {'title': 'Unmetered',\n",
    "                          'annotations': sub4_annotations}]),\n",
    "             dict(label = 'All',\n",
    "                 method = 'update',\n",
    "                 args = [{'visible': [True, True, True, True, True, True]},\n",
    "                         {'title': 'All Attribude',\n",
    "                          'annotations': gap_annotations+sub1_annotations+sub2_annotations+sub3_annotations+sub4_annotations}])\n",
    "        ]),\n",
    "    )\n",
    "])\n"
   ]
  },
  {
   "cell_type": "code",
   "execution_count": 48,
   "metadata": {},
   "outputs": [],
   "source": [
    "layout = dict(title='Energy Consumption',height=700, width=1000, showlegend=False,\n",
    "              updatemenus=updatemenus)"
   ]
  },
  {
   "cell_type": "code",
   "execution_count": 49,
   "metadata": {},
   "outputs": [
    {
     "data": {
      "text/html": [
       "<iframe id=\"igraph\" scrolling=\"no\" style=\"border:none;\" seamless=\"seamless\" src=\"https://plot.ly/~roudgarian/12.embed\" height=\"700px\" width=\"1000px\"></iframe>"
      ],
      "text/plain": [
       "<plotly.tools.PlotlyDisplay object>"
      ]
     },
     "execution_count": 49,
     "metadata": {},
     "output_type": "execute_result"
    }
   ],
   "source": [
    "fig = dict(data=data, layout=layout)\n",
    "py.iplot(fig, filename='update_dropdown')"
   ]
  },
  {
   "cell_type": "code",
   "execution_count": null,
   "metadata": {},
   "outputs": [],
   "source": []
  },
  {
   "cell_type": "code",
   "execution_count": null,
   "metadata": {},
   "outputs": [],
   "source": []
  }
 ],
 "metadata": {
  "kernelspec": {
   "display_name": "Python 3",
   "language": "python",
   "name": "python3"
  },
  "language_info": {
   "codemirror_mode": {
    "name": "ipython",
    "version": 3
   },
   "file_extension": ".py",
   "mimetype": "text/x-python",
   "name": "python",
   "nbconvert_exporter": "python",
   "pygments_lexer": "ipython3",
   "version": "3.6.5"
  }
 },
 "nbformat": 4,
 "nbformat_minor": 2
}
