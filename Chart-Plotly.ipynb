{
 "cells": [
  {
   "cell_type": "code",
   "execution_count": 1,
   "metadata": {},
   "outputs": [],
   "source": [
    "import plotly.plotly as py\n",
    "import plotly.graph_objs as go \n",
    "import plotly\n",
    "plotly.tools.set_credentials_file(username='roudgarian', api_key='487wi04XQXVDhzZVfABJ')\n",
    "from datetime import datetime\n",
    "import pandas_datareader.data as web\n",
    "import pandas as pd\n",
    "import itertools\n",
    "import matplotlib.pyplot as plt \n",
    "import seaborn as sns\n",
    "import numpy as np\n",
    "import statsmodels.api as sm\n",
    "from pylab import rcParams\n",
    "from pandas.plotting import autocorrelation_plot\n",
    "from matplotlib import pyplot\n",
    "from numpy import nan\n",
    "from numpy import isnan\n",
    "from pandas import read_csv\n",
    "from pandas import to_numeric\n",
    "from numpy import split\n",
    "from numpy import array\n",
    "from statsmodels.graphics.tsaplots import plot_acf\n",
    "from statsmodels.graphics.tsaplots import plot_pacf\n",
    "from sklearn.metrics import mean_squared_error\n",
    "from statsmodels.tsa.arima_model import ARIMA\n",
    "from math import sqrt\n",
    "from plotly import tools"
   ]
  },
  {
   "cell_type": "code",
   "execution_count": 2,
   "metadata": {},
   "outputs": [],
   "source": [
    "data = read_csv('Power_consumption_Preprocessed.csv', header=0,\n",
    "                infer_datetime_format=True, parse_dates=['DateTime'], index_col=['DateTime'])"
   ]
  },
  {
   "cell_type": "code",
   "execution_count": 3,
   "metadata": {},
   "outputs": [],
   "source": [
    "week_min=data['2008-08-18':'2008-08-24']\n",
    "day_min=data['2008-08-23':'2008-08-23']\n",
    "week_max=data['2007-12-24':'2007-12-30']\n",
    "day_max=data['2007-12-28':'2007-12-28']"
   ]
  },
  {
   "cell_type": "code",
   "execution_count": 4,
   "metadata": {},
   "outputs": [],
   "source": [
    "week_max=week_max.resample('h').mean()"
   ]
  },
  {
   "cell_type": "code",
   "execution_count": 5,
   "metadata": {},
   "outputs": [],
   "source": [
    "trace_gap = go.Scatter(x=list(week_max.index),\n",
    "                       y=list(week_max.Global_active_power),\n",
    "                       legendgroup= 'group1',\n",
    "                          name='GAP',\n",
    "                          line=dict(color='#B40431'),\n",
    "                       showlegend= True,\n",
    "                      visible ='legendonly')"
   ]
  },
  {
   "cell_type": "code",
   "execution_count": 6,
   "metadata": {},
   "outputs": [],
   "source": [
    "trace_sub1 = go.Scatter(x=list(week_max.index),\n",
    "                       y=list(week_max.Sub_metering_1),\n",
    "                       name='Kitchen',\n",
    "                       line=dict(color='#2d7f5e'),\n",
    "                       legendgroup= 'group2',\n",
    "                       showlegend= True,\n",
    "                      visible ='legendonly')"
   ]
  },
  {
   "cell_type": "code",
   "execution_count": 7,
   "metadata": {},
   "outputs": [],
   "source": [
    "trace_sub2 = go.Scatter(x=list(week_max.index),\n",
    "                       y=list(week_max.Sub_metering_2),\n",
    "                       name='Laundry.R',\n",
    "                       line=dict(color='#0080FF'),\n",
    "                       legendgroup= 'group3',\n",
    "                       showlegend= True,\n",
    "                      visible ='legendonly')"
   ]
  },
  {
   "cell_type": "code",
   "execution_count": 8,
   "metadata": {},
   "outputs": [],
   "source": [
    "trace_sub3 = go.Scatter(x=list(week_max.index),\n",
    "                       y=list(week_max.Sub_metering_3),\n",
    "                       name='Heating_AC',\n",
    "                       line=dict(color='#FFBF00'),\n",
    "                       legendgroup= 'group4',\n",
    "                       showlegend= True,\n",
    "                      visible ='legendonly')"
   ]
  },
  {
   "cell_type": "code",
   "execution_count": 9,
   "metadata": {},
   "outputs": [],
   "source": [
    "trace_sub4 = go.Scatter(x=list(week_max.index),\n",
    "                       y=list(week_max.Unmetered),\n",
    "                       name='Unmetered',\n",
    "                       line=dict(color='#3A2F0B'),\n",
    "                       legendgroup= 'group5',\n",
    "                       showlegend= True,\n",
    "                      visible ='legendonly')"
   ]
  },
  {
   "cell_type": "code",
   "execution_count": 10,
   "metadata": {},
   "outputs": [],
   "source": [
    "data = [trace_gap, trace_sub1, trace_sub2, trace_sub3, trace_sub4 ]"
   ]
  },
  {
   "cell_type": "code",
   "execution_count": 11,
   "metadata": {},
   "outputs": [],
   "source": [
    "day_max=day_max.resample('h').mean()"
   ]
  },
  {
   "cell_type": "code",
   "execution_count": 12,
   "metadata": {},
   "outputs": [],
   "source": [
    "trace2_gap = go.Scatter(x=list(day_max.index),\n",
    "                       y=list(day_max.Global_active_power),\n",
    "                        legendgroup= 'group1',\n",
    "                          name='GAP',\n",
    "                          line=dict(color='#B40431'),\n",
    "                       showlegend= False,\n",
    "                      visible ='legendonly')"
   ]
  },
  {
   "cell_type": "code",
   "execution_count": 13,
   "metadata": {},
   "outputs": [],
   "source": [
    "trace2_sub1 = go.Scatter(x=list(day_max.index),\n",
    "                       y=list(day_max.Sub_metering_1),\n",
    "                       name='Kitchen',\n",
    "                       line=dict(color='#2d7f5e'),\n",
    "                       legendgroup= 'group2',\n",
    "                       showlegend= False,\n",
    "                      visible ='legendonly')"
   ]
  },
  {
   "cell_type": "code",
   "execution_count": 14,
   "metadata": {},
   "outputs": [],
   "source": [
    "trace2_sub2 = go.Scatter(x=list(day_max.index),\n",
    "                       y=list(day_max.Sub_metering_2),\n",
    "                       name='Laundry.R',\n",
    "                       line=dict(color='#0080FF'),\n",
    "                       legendgroup= 'group3',\n",
    "                       showlegend= False,\n",
    "                      visible ='legendonly')"
   ]
  },
  {
   "cell_type": "code",
   "execution_count": 15,
   "metadata": {},
   "outputs": [],
   "source": [
    "trace2_sub3 = go.Scatter(x=list(day_max.index),\n",
    "                       y=list(day_max.Sub_metering_3),\n",
    "                       name='Heating_AC',\n",
    "                       line=dict(color='#FFBF00'),\n",
    "                       legendgroup= 'group4',\n",
    "                       showlegend= False,\n",
    "                      visible ='legendonly')"
   ]
  },
  {
   "cell_type": "code",
   "execution_count": 16,
   "metadata": {},
   "outputs": [],
   "source": [
    "trace2_sub4 = go.Scatter(x=list(day_max.index),\n",
    "                       y=list(day_max.Unmetered),\n",
    "                       name='Unmetered',\n",
    "                       line=dict(color='#3A2F0B'),\n",
    "                       legendgroup= 'group5',\n",
    "                       showlegend= False,\n",
    "                      visible ='legendonly')"
   ]
  },
  {
   "cell_type": "code",
   "execution_count": 17,
   "metadata": {},
   "outputs": [],
   "source": [
    "#data2 = [trace2_gap, trace2_sub1, trace2_sub2, trace2_sub3, trace2_sub4 ]"
   ]
  },
  {
   "cell_type": "code",
   "execution_count": 18,
   "metadata": {},
   "outputs": [],
   "source": [
    "week_min=week_min.resample('h').mean()"
   ]
  },
  {
   "cell_type": "code",
   "execution_count": 19,
   "metadata": {},
   "outputs": [],
   "source": [
    "trace3_gap = go.Scatter(x=list(week_min.index),\n",
    "                       y=list(week_min.Global_active_power),\n",
    "                        legendgroup= 'group1',\n",
    "                          name='GAP',\n",
    "                          line=dict(color='#B40431'),\n",
    "                       showlegend= False,\n",
    "                      visible ='legendonly')"
   ]
  },
  {
   "cell_type": "code",
   "execution_count": 20,
   "metadata": {},
   "outputs": [],
   "source": [
    "trace3_sub1 = go.Scatter(x=list(week_min.index),\n",
    "                       y=list(week_min.Sub_metering_1),\n",
    "                       name='Kitchen',\n",
    "                       line=dict(color='#2d7f5e'),\n",
    "                       legendgroup= 'group2',\n",
    "                       showlegend= False,\n",
    "                      visible ='legendonly')"
   ]
  },
  {
   "cell_type": "code",
   "execution_count": 21,
   "metadata": {},
   "outputs": [],
   "source": [
    "trace3_sub2 = go.Scatter(x=list(week_min.index),\n",
    "                       y=list(week_min.Sub_metering_2),\n",
    "                       name='Laundry.R',\n",
    "                       line=dict(color='#0080FF'),\n",
    "                       legendgroup= 'group3',\n",
    "                       showlegend= False,\n",
    "                      visible ='legendonly')"
   ]
  },
  {
   "cell_type": "code",
   "execution_count": 22,
   "metadata": {},
   "outputs": [],
   "source": [
    "trace3_sub3 = go.Scatter(x=list(week_min.index),\n",
    "                       y=list(week_min.Sub_metering_3),\n",
    "                       name='Heating_AC',\n",
    "                       line=dict(color='#FFBF00'),\n",
    "                       legendgroup= 'group4',\n",
    "                       showlegend= False,\n",
    "                      visible ='legendonly')"
   ]
  },
  {
   "cell_type": "code",
   "execution_count": 23,
   "metadata": {},
   "outputs": [],
   "source": [
    "trace3_sub4 = go.Scatter(x=list(week_min.index),\n",
    "                       y=list(week_min.Unmetered),\n",
    "                       name='Unmetered',\n",
    "                       line=dict(color='#3A2F0B'),\n",
    "                       legendgroup= 'group5',\n",
    "                       showlegend= False,\n",
    "                      visible ='legendonly')"
   ]
  },
  {
   "cell_type": "code",
   "execution_count": 24,
   "metadata": {},
   "outputs": [],
   "source": [
    "day_min=day_min.resample('h').mean()"
   ]
  },
  {
   "cell_type": "code",
   "execution_count": 25,
   "metadata": {},
   "outputs": [],
   "source": [
    "trace4_gap = go.Scatter(x=list(day_min.index),\n",
    "                       y=list(day_min.Global_active_power),\n",
    "                        legendgroup= 'group1',\n",
    "                          name='GAP',\n",
    "                          line=dict(color='#B40431'),\n",
    "                       showlegend= False,\n",
    "                      visible ='legendonly')"
   ]
  },
  {
   "cell_type": "code",
   "execution_count": 26,
   "metadata": {},
   "outputs": [],
   "source": [
    "trace4_sub1 = go.Scatter(x=list(day_min.index),\n",
    "                       y=list(day_min.Sub_metering_1),\n",
    "                       name='Kitchen',\n",
    "                       line=dict(color='#2d7f5e'),\n",
    "                       legendgroup= 'group2',\n",
    "                       showlegend= False,\n",
    "                      visible ='legendonly')"
   ]
  },
  {
   "cell_type": "code",
   "execution_count": 27,
   "metadata": {},
   "outputs": [],
   "source": [
    "trace4_sub2 = go.Scatter(x=list(day_min.index),\n",
    "                       y=list(day_min.Sub_metering_2),\n",
    "                       name='Laundry.R',\n",
    "                       line=dict(color='#0080FF'),\n",
    "                       legendgroup= 'group3',\n",
    "                       showlegend= False,\n",
    "                      visible ='legendonly')"
   ]
  },
  {
   "cell_type": "code",
   "execution_count": 28,
   "metadata": {},
   "outputs": [],
   "source": [
    "trace4_sub3 = go.Scatter(x=list(day_min.index),\n",
    "                       y=list(day_min.Sub_metering_3),\n",
    "                       name='Heating_AC',\n",
    "                       line=dict(color='#FFBF00'),\n",
    "                       legendgroup= 'group4',\n",
    "                       showlegend= False,\n",
    "                      visible ='legendonly')"
   ]
  },
  {
   "cell_type": "code",
   "execution_count": 29,
   "metadata": {},
   "outputs": [],
   "source": [
    "trace4_sub4 = go.Scatter(x=list(day_min.index),\n",
    "                       y=list(day_min.Unmetered),\n",
    "                       name='Unmetered',\n",
    "                       line=dict(color='#3A2F0B'),\n",
    "                       legendgroup= 'group5',\n",
    "                       showlegend= False,\n",
    "                      visible ='legendonly')"
   ]
  },
  {
   "cell_type": "code",
   "execution_count": 30,
   "metadata": {},
   "outputs": [
    {
     "name": "stdout",
     "output_type": "stream",
     "text": [
      "This is the format of your plot grid:\n",
      "[ (1,1) x1,y1 ]  [ (1,2) x2,y2 ]\n",
      "[ (2,1) x3,y3 ]  [ (2,2) x4,y4 ]\n",
      "\n"
     ]
    }
   ],
   "source": [
    "fig = tools.make_subplots(rows=2, cols=2,\n",
    "                          subplot_titles=('High Energy Consumption Week(Dec Last Week )',\n",
    "                                          'High Energy Consumption Day',\n",
    "                                                          'Low Energy Consumption Week(Aug 3th Week)',\n",
    "                                          'Low Energy Consumption Day'))"
   ]
  },
  {
   "cell_type": "code",
   "execution_count": 31,
   "metadata": {},
   "outputs": [],
   "source": [
    "fig.append_trace(trace_gap, 1, 1)\n",
    "fig.append_trace(trace_sub1, 1, 1)\n",
    "fig.append_trace(trace_sub2, 1, 1)\n",
    "fig.append_trace(trace_sub3, 1, 1)\n",
    "fig.append_trace(trace_sub4, 1, 1)\n",
    "fig.append_trace(trace2_gap, 1, 2)\n",
    "fig.append_trace(trace2_sub1, 1, 2)\n",
    "fig.append_trace(trace2_sub2, 1, 2)\n",
    "fig.append_trace(trace2_sub3, 1, 2)\n",
    "fig.append_trace(trace2_sub4, 1, 2)\n",
    "fig.append_trace(trace3_gap, 2, 1)\n",
    "fig.append_trace(trace3_sub1, 2, 1)\n",
    "fig.append_trace(trace3_sub2, 2, 1)\n",
    "fig.append_trace(trace3_sub3, 2, 1)\n",
    "fig.append_trace(trace3_sub4, 2, 1)\n",
    "fig.append_trace(trace4_gap, 2, 2)\n",
    "fig.append_trace(trace4_sub1, 2, 2)\n",
    "fig.append_trace(trace4_sub2, 2, 2)\n",
    "fig.append_trace(trace4_sub3, 2, 2)\n",
    "fig.append_trace(trace4_sub4, 2, 2)"
   ]
  },
  {
   "cell_type": "code",
   "execution_count": 37,
   "metadata": {
    "slideshow": {
     "slide_type": "slide"
    }
   },
   "outputs": [],
   "source": [
    "fig['layout'].update(height=700, width=800, title='Multiple Subplots' +\n",
    "                                                  ' with Titles')"
   ]
  },
  {
   "cell_type": "code",
   "execution_count": 41,
   "metadata": {
    "slideshow": {
     "slide_type": "subslide"
    }
   },
   "outputs": [
    {
     "data": {
      "text/html": [
       "<iframe id=\"igraph\" scrolling=\"no\" style=\"border:none;\" seamless=\"seamless\" src=\"https://plot.ly/~roudgarian/14.embed\" height=\"700px\" width=\"800px\"></iframe>"
      ],
      "text/plain": [
       "<plotly.tools.PlotlyDisplay object>"
      ]
     },
     "execution_count": 41,
     "metadata": {},
     "output_type": "execute_result"
    }
   ],
   "source": [
    "py.iplot(fig, filename='make-subplots-multiple-with-titles')"
   ]
  },
  {
   "cell_type": "code",
   "execution_count": null,
   "metadata": {},
   "outputs": [],
   "source": []
  }
 ],
 "metadata": {
  "celltoolbar": "Slideshow",
  "kernelspec": {
   "display_name": "Python 3",
   "language": "python",
   "name": "python3"
  },
  "language_info": {
   "codemirror_mode": {
    "name": "ipython",
    "version": 3
   },
   "file_extension": ".py",
   "mimetype": "text/x-python",
   "name": "python",
   "nbconvert_exporter": "python",
   "pygments_lexer": "ipython3",
   "version": "3.6.5"
  }
 },
 "nbformat": 4,
 "nbformat_minor": 2
}
